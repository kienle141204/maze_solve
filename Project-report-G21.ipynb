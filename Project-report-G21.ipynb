{
 "cells": [
  {
   "cell_type": "markdown",
   "metadata": {},
   "source": [
    "# Báo cáo Project\n",
    "Lớp TTNT-154016, Nhóm G21"
   ]
  },
  {
   "cell_type": "markdown",
   "metadata": {},
   "source": [
    "## 1. Thông tin chung"
   ]
  },
  {
   "cell_type": "markdown",
   "metadata": {},
   "source": [
    "### Thành viên\n",
    "- Đinh Mạnh Dũng 20224959\n",
    "- Nguyễn Mạnh Hùng 20224859\n",
    "- Lê Trung Kiên 20225023\n",
    "- Đoàn Đại Phúc 20224890\n",
    "- Nguyễn Thế Phong 20224888"
   ]
  },
  {
   "cell_type": "markdown",
   "metadata": {},
   "source": [
    "### Lịch thực hiện\n",
    "- W02: Đăng ký nhóm (Đã xác nhận nhóm đăng ký hoặc phân công 17/9)\n",
    "- W03: Đề xuất project (22/9 - các thành viên trong nhóm bắt đầu trao đổi, thực hiện project)\n",
    "- W09: Báo cáo tiến độ giữa kỳ (2/11)\n",
    "- W15: Hoàn thành và gửi báo cáo project (14/12)\n",
    "- W16-17: Trình bày project, Q&A"
   ]
  },
  {
   "cell_type": "markdown",
   "metadata": {},
   "source": [
    "## 2. Đề xuất project (W2-3)"
   ]
  },
  {
   "cell_type": "markdown",
   "metadata": {},
   "source": [
    "### Bài toán\n",
    "Tìm đường đi phù hợp nhất để thoát khỏi mê cung (ngắn nhất, đạt đủ nhiều yêu cầu, thử thách,..)"
   ]
  },
  {
   "cell_type": "markdown",
   "metadata": {},
   "source": [
    "### Phương pháp\n",
    "Sử dụng các kiến thức đã được học xây dụng thuật toán phù hợp để giải mê cung theo yêu cầu nhất định."
   ]
  },
  {
   "cell_type": "markdown",
   "metadata": {},
   "source": [
    "### Phân công\n",
    "- Đinh Mạnh Dũng:Phát triển giao diện người dùng (UI)\n",
    "    Nhiệm vụ:\n",
    "        Xây dựng giao diện để người dùng có thể dễ dàng điều chỉnh kích thước mê cung, thêm hoặc bớt chướng ngại vật, và chọn thuật toán tìm kiếm.\n",
    "        Đảm bảo giao diện trực quan và dễ thao tác, hiển thị kết quả tìm kiếm rõ ràng và dễ hiểu.\n",
    "- Nguyễn Mạnh Hùng:Trực quan hóa thuật toán và xử lý đồ họa\n",
    "    Nhiệm vụ:\n",
    "        Thiết kế và phát triển các hiệu ứng trực quan để hiển thị đường đi mà các thuật toán tìm kiếm tìm ra.\n",
    "        Thể hiện các bước thuật toán đang chạy, các ô đã duyệt, và đích đến trên mê cung một cách sinh động và rõ ràng.\n",
    "- Lê Trung Kiên:Phát triển các thuật toán tìm kiếm\n",
    "    Nhiệm vụ:\n",
    "        Triển khai các thuật toán tìm kiếm như Breadth-First Search (BFS), A*.\n",
    "        Tối ưu hóa từng thuật toán để hoạt động hiệu quả trong các tình huống mê cung khác nhau.\n",
    "- Đoàn Đại Phúc:Phát triển thuật toán và cải tiến logic điều kiện ràng buộc\n",
    "    Nhiệm vụ:\n",
    "        Thêm các điều kiện ràng buộc vào thuật toán, chẳng hạn như hạn chế thời gian, giới hạn số bước hoặc xử lý các vùng bị cấm trong mê cung.\n",
    "        Phối hợp với người phát triển thuật toán để kiểm tra độ hiệu quả của các điều kiện này và tối ưu chúng.\n",
    "- Nguyễn Thế Phong:Quản lý dữ liệu và cấu hình tùy chỉnh mê cung\n",
    "    Nhiệm vụ:\n",
    "        Phát triển chức năng để người dùng có thể lưu lại các cấu hình mê cung và thử lại với các thuật toán khác nhau.\n",
    "        Thiết kế cách quản lý và lưu trữ dữ liệu kết quả từ các lần tìm đường, giúp so sánh hiệu năng của các thuật toán trong các cấu hình khác nhau của mê cung"
   ]
  },
  {
   "cell_type": "markdown",
   "metadata": {},
   "source": [
    "## 3. Tiến độ giữa kỳ (W9)"
   ]
  },
  {
   "cell_type": "markdown",
   "metadata": {},
   "source": [
    "### Chương trình\n"
   ]
  },
  {
   "cell_type": "markdown",
   "metadata": {},
   "source": [
    "#### i.Thuật toán BFS giải mê cung"
   ]
  },
  {
   "cell_type": "code",
   "execution_count": null,
   "metadata": {},
   "outputs": [],
   "source": [
    "from queue import Queue\n",
    "\n",
    "def bfs(maze,start,goal):\n",
    "    rows = len(maze)\n",
    "    cols = len(maze[0])\n",
    "\n",
    "    came_from = {}\n",
    "    visited = [[0]*cols for _ in range(rows)]\n",
    "    derictions = directions = [(-1, 0), (1, 0), (0, -1), (0, 1)]\n",
    "\n",
    "    q = Queue()\n",
    "\n",
    "    q.put((start,0)) \n",
    "    visited[start[0]][start[1]] = 1\n",
    "\n",
    "    while not q.empty():\n",
    "        current,step = q.get()\n",
    "\n",
    "        if(current == goal):\n",
    "            return re_path(maze,came_from,current)\n",
    "            \n",
    "        \n",
    "        for d in directions:\n",
    "            new = (current[0] + d[0],current[1] + d[1])\n",
    "\n",
    "            if 0<= new[0] < cols and 0<= new[1] < rows and visited[new[0]][new[1]] == 0:\n",
    "                if maze[new[0]][new[1]] == 1:\n",
    "                    came_from[new] = current\n",
    "                    visited[new[0]][new[1]] = 1\n",
    "                    q.put((new,step + 1))\n",
    "    \n",
    "    return None \n",
    "\n",
    "def re_path(maze,came_from,current):\n",
    "    path = [current]\n",
    "    while current in came_from:\n",
    "        current = came_from[current]\n",
    "        path.append(current)\n",
    "\n",
    "    path.reverse()\n",
    "\n",
    "    for i in path:\n",
    "        maze[i[0]][i[1]] = 2\n",
    "\n",
    "    return path\n"
   ]
  },
  {
   "cell_type": "markdown",
   "metadata": {},
   "source": [
    "#### ii.Thuật toán A star giải mê cung "
   ]
  },
  {
   "cell_type": "code",
   "execution_count": null,
   "metadata": {},
   "outputs": [],
   "source": [
    "from queue import PriorityQueue\n",
    "\n",
    "\n",
    "\n",
    "\n",
    "def heuristic(a, b):\n",
    "    return abs(a[0] - b[0]) + abs(a[1] - b[1])\n",
    "\n",
    "def a_star_search(maze, start, goal):\n",
    "    directions = [(-1, 0), (1, 0), (0, -1), (0, 1)]\n",
    "    rows = len(maze)\n",
    "    cols = len(maze[0])\n",
    "\n",
    "    open_set = PriorityQueue()\n",
    "    open_set.put((0,start)) #fn va vitri\n",
    "\n",
    "    came_from = {}\n",
    "    g = {start : 0}\n",
    "    f = {start : heuristic(start, goal)}\n",
    "\n",
    "    while not open_set.empty():\n",
    "        _, current = open_set.get()\n",
    "\n",
    "        if current == goal:\n",
    "            return re_path(maze,came_from, current)\n",
    "        \n",
    "        for d in directions:\n",
    "            new = (current[0] + d[0], current[1] + d[1])\n",
    "\n",
    "            if 0 <= new[0] < rows and 0 <= new[1] < cols and maze[new[0]][new[1]] == 1:\n",
    "                new_g = g[current] + 1\n",
    "\n",
    "                if new_g < g.get(new, float('inf')):\n",
    "                    came_from[new] = current\n",
    "                    g[new] = new_g\n",
    "                    f[new] = new_g + heuristic(new,goal)\n",
    "                    open_set.put((f[new],new))\n",
    "\n",
    "    return None\n",
    "\n",
    "def re_path(maze,came_from,current):\n",
    "    path = [current]\n",
    "    while current in came_from:\n",
    "        current = came_from[current]\n",
    "        path.append(current)\n",
    "\n",
    "    path.reverse()\n",
    "\n",
    "    for i in path:\n",
    "        maze[i[0]][i[1]] = 2\n",
    "\n",
    "    return path\n"
   ]
  },
  {
   "cell_type": "markdown",
   "metadata": {},
   "source": [
    "### Kết quả, vấn đề gặp phải\n"
   ]
  },
  {
   "cell_type": "markdown",
   "metadata": {},
   "source": [
    "Chúng em thu được các kết quả như sau: \n",
    "- Xây dựng được một số thuật toán cơ bản giải mê cung.\n",
    "- So sánh được độ hiệu quả của các thuật toán thông qua thời gian làm việc và độ dài đường đi chúng tìm được."
   ]
  },
  {
   "cell_type": "markdown",
   "metadata": {},
   "source": [
    "Dự định sắp tới:\n",
    "- Thêm các điều kiện vào mê cung để các yêu cầu được đa dạng hơn.\n",
    "- Tinh chỉnh các hệ số trong q_learning để phù hợp với từng dạng mê cung.\n",
    "- Triển khai giải một số đường đi trong thực tế."
   ]
  },
  {
   "cell_type": "markdown",
   "metadata": {},
   "source": [
    "Vấn đề gặp phải:\n",
    "- Còn những ý tưởng nào khác hiệu quả để giải mê cung ?\n",
    "- Hàm heurictic trong thuật toán a_star hiện tại có đủ hiệu quả hay không ?\n",
    "- Có nên áp dụng Deep Q_Network vào giải các mê cung phức tạp không?\n",
    "- Làm sao để đánh giá đúng mức độ hiệu quả của mô hình cũng như so sánh chúng với nhau ?"
   ]
  },
  {
   "cell_type": "markdown",
   "metadata": {},
   "source": [
    "## 4. Cập nhật kết quả cuối kỳ (W15)"
   ]
  },
  {
   "cell_type": "markdown",
   "metadata": {},
   "source": [
    "## Chi tiết phương pháp, dữ liệu \n",
    "### 1. Giải mê cung cơ bản (mê cung không có trọng số, độ dài đường đi giữa hai ô cạnh nhau bất kì là như nhau).\n",
    "Khi bắt đầu, chương trình sẽ yêu cầu nhập vào kích cỡ mê cung cần giải. Sau khi nhập kích thước mê cung thành công, dựa vào hàm tạo mê cung, mê cung sẽ được tạo một cách ngẫu nhiên.\n",
    "\n",
    "*Giải thích về cơ chế tạo mê cung : Ý tưởng cơ bản của cơ chế tạo mê cung này dựa trên giải thuật DFS.<br>- Ban đầu, nhập vào một giá trị n là kích thước của mê cung. Tạo một ma trận với kích thước 2n+1, tất cả các phần tử trong ma trận đề có giá trị bằng 0, biểu thị cho tường.<br> - Bắt đầu từ vị trí (1, 1) đánh dấu vị trí này là đường đi( đường đi có gía trị là 1), cho điểm này vào stack.<br> - Chọn điểm cuối cùng được thêm vào stack, kiểm tra các hàng xóm cách hai đơn vị của điểm hiện tại theo 4 hướng( một điểm thỏa mãn là hàng xóm của điểm hiện tại nếu nó nằm trong ma trận đang xét và có giá trị bằng 0).<br> - Nếu tồn tại hàng xóm, chọn bất kì một hàng xóm của điểm hiện tại vào cho nó vào stack, khi đã chọn được hàng xóm thì kí hiệu hàng xóm đó cũng là đường đi và điểm ở giữa điểm hiện tại và hàng xóm được chọn cũng là đường đi.<br>- Nếu không tồn tại hàng xóm, xóa điểm đang xét ra khỏi hàng đợi.<br> - Lặp lại 2 bước gần nhất trên cho tới khi stack rỗng, khi đó ta không thể chọn điểm nào làm đường đi nữa và được một mê cung hoàn chỉnh, đảm bảo luôn có đường đi giữa 2 điểm bất kì nằm trong mê cung.*\n",
    "\n",
    "**Với mê cung không trọng số nhóm có đưa ra hai hướng tiếp cận như sau :**\n",
    "\n",
    "#### a. Tìm đường đi tối ưu từ một điểm đầu và một điểm cuối bất kì:\n",
    "Chương trình khởi tạo hai mê cung cạnh nhau phục vụ việc giải 2 mê cung bằng 2 thuật toán BFS và A STAR.\n",
    "- **Dữ liệu đầu vào:**<br> \n",
    "    Dữ liệu đầu vào ở đây sẽ là hai điểm đầu cuối, điểm đầu và điểm cuối sẽ được chọn bằng cách click chuật vào các ô đường đi của mê cung cho sẵn.\n",
    "- **Giải thuật:**<br>\n",
    "    Khi có được đầu vào là điểm đầu và điểm cuối chương trình sẽ thực hiện giải mê cung theo thuật toán mà mình đã chọn (sẽ có hai mê cung phục vụ thuật toán khác nhau, khi chọn đủ điểm đầu và cuối ở mê cung nào thì mê cung đó sẽ chạy chương trình tìm đường đi tối ưu).<br> Thuật toán tìm kiếm đường đi kết thúc, nó sẽ đưa ra lời giải tối ưu, thời gian chạy thuật toán và số bước đi cần thiết để đi từ điểm đầu đến điểm đích.\n",
    "\n",
    "#### b. Tìm đường đi tối ưu từ điểm đầu đến điểm cuối, trên đường đi phải đi qua một tập điểm cho trước:\n",
    "Chương trình tạo ra một mê cung duy nhất để giải.\n",
    "- **Dữ liệu đầu vào:**<br>\n",
    "    Dữ liệu đầu vào là 2 điểm đầu cuối vào tập các điểm mà bạn muốn đi qua, khi khởi động chương trình sẽ bắt nhập kích thước mê cung, sau đó đến số điểm bạn muốn đi qua. <br> Đầu tiên sử dụng con trỏ chuật click vào mê cung để chọn 2 điểm đầu cuối, sau khi chọn 2 điểm đầu cuối click tiếp để chọn các điểm muốn đi qua.\n",
    "- **Giải thuật:**<br>\n",
    "    Sau khi các điểm đã được lựa chọn, chương trình sẽ chạy giải thuật BFS để tìm độ dài đường đi nhỏ nhất giữa 2 điểm bất kì và lưu nó vào một mảng 2 chiều.<br> Sau khi có khoảng cách giữa các điểm, thuật toán Simulated Annealing sẽ được dùng để tìm tổng khoảng cách nhỏ nhất từ điểm đầu đi qua tất cả các điểm và kết thúc ở điểm cuối.<br> Nếu tồn tại đường đi, chương trình sẽ cho in ra thời gian chạy, số bước di chuyển và tập các điểm đã được sắp xếp để có được lời giải tối ưu.\n",
    "\n",
    "\n",
    "### 2. Giải mê cung cơ bản có trọng số.\n",
    "\n",
    "* Ý tưởng tạo mê cung có trọng số:\n",
    "    - Trọng sô(weight) là một số nguyên hoặc số thực, biểu thị chi phí khi đi qua một ô trong mê cung. \n",
    "    - Người dùng có thể tùy chỉnh các trọng số này thông qua giao diện.\n",
    "* Quy trình tạo trọng số:\n",
    "    - Khởi tạo mặc định:\n",
    "    Tất cả các ô trên lưới đều được gán một trọng số mặc định (ví dụ: 1).\n",
    "    Trọng số mặc định này có thể được điều chỉnh.\n",
    "    - Tương tác của người dùng:\n",
    "    Khi người dùng chọn chế độ \"Tạo trọng số\" (Draw Weight Mode), họ có thể nhấp vào các ô trên lưới để thay đổi trọng số.\n",
    "    Người dùng có thể sử dụng Spinbox để đặt giá trị trọng số mong muốn trước khi nhấp vào ô.\n",
    "    - Cập nhật trọng số:\n",
    "    Khi người dùng nhấp vào một ô, giá trị trọng số được gán vào ô đó dựa trên giá trị từ Spinbox.\n",
    "    - Lưu trữ trọng số:\n",
    "    Trọng số của từng ô được lưu trữ trong một ma trận (2D array) hoặc dictionary, nơi mỗi ô được liên kết với một tọa độ (x, y).\n",
    "\n",
    "#### a. Tìm đường đi có chi phí nhỏ nhất với giải thuật Dijkstra trong mê cung \n",
    "Chương trình sử dụng thuật toán Dijkstra để tìm đường đi ngắn nhất giữa hai điểm trong mê cung với trọng số tương ứng với chi phí đi qua các điểm trong mê cung. \n",
    "- **Dữ liệu đầu vào:**<br>\n",
    "    Kích thước ma trận, điểm đầu, điểm cuối và số điểm đi qua.\n",
    "- **Giải thuật:**<br>\n",
    "    Thuật toán Dijkstra giúp tìm được đường đi tối ưu có chi phí nhỏ nhất từ điểm đầu đến điểm đích trong mê cung có trọng số tương ứng với chi phí mỗi điểm.<br> Thuật toán sử dụng PriorityQueue để tối ưu hóa quá trình tìm kiếm.<br>Giải thuật phù hợp với mê cung có trọng số dương.<br>Thuật toán sẽ dừng khi tìm ra điểm đích hoặc khi đã xét hết những vị trí có thể đi mà chưa tới đích.\n",
    "\n",
    "\n",
    "#### b. Tìm đường đi có chi phí nhỏ nhất từ điểm đầu đến điểm cuối trong mê cung \n",
    "Chương trình tạo ra một mê cung để giải với trọng số mỗi ô được giới hạn bởi người dùng và ô tường trọng số là 0\n",
    "- **Dữ liệu đầu vào:**<br>\n",
    "Dữ liệu đầu vào là điểm đầu, điểm cuối, giới hạn trọng số ở mỗi ô trong mê cung\n",
    "- **Giải thuật:**<br>\n",
    "Sau khi nhập input, chương trình sẽ chạy thuật toán A STAR để tìm kiếm đường đi trong mê cung. Dựa vào trọng số và khoảng cách Mahattan để ước lượng khoảng cách nhằm tìm ra hàm ước lượng chi phí tốt nhất cho mỗi hàng xóm. Nếu tồn tại đường đi chương trình sẽ in ra đường đi lời giải cho mê cung."
   ]
  },
  {
   "cell_type": "markdown",
   "metadata": {},
   "source": []
  },
  {
   "cell_type": "markdown",
   "metadata": {},
   "source": [
    "### Chương trình\n",
    "..."
   ]
  },
  {
   "cell_type": "code",
   "execution_count": null,
   "metadata": {
    "vscode": {
     "languageId": "plaintext"
    }
   },
   "outputs": [],
   "source": [
    "### 1. Giải mê cung cơ bản (mê cung không có trọng số, độ dài đường đi giữa hai ô cạnh nhau bất kì là như nhau).\n",
    "#### a. Tìm đường đi tối ưu từ một điểm đầu và một điểm cuối bất kì:\n",
    "        - Thuật toán BFS"
   ]
  },
  {
   "cell_type": "code",
   "execution_count": null,
   "metadata": {
    "vscode": {
     "languageId": "plaintext"
    }
   },
   "outputs": [],
   "source": [
    "def bfs(maze, start, goal, blocks=[]):\n",
    "    rows = len(maze)\n",
    "    cols = len(maze[0])\n",
    "\n",
    "    came_from = {} # luu cha cua cac diem trong loi giai\n",
    "\n",
    "    visited = [[0]*cols for _ in range(rows)]\n",
    "    directions = [(-1, 0), (1, 0), (0, -1), (0, 1)]\n",
    "\n",
    "    q = Queue()\n",
    "    qq = []\n",
    "    q.put(start)\n",
    "    visited[start[0]][start[1]] = 1\n",
    "\n",
    "    while not q.empty():\n",
    "        current = q.get()\n",
    "\n",
    "        if current == goal:\n",
    "            return re_path(maze, came_from, current), qq\n",
    "        \n",
    "        for dx, dy in directions:\n",
    "            new_state = (current[0] + dx, current[1] + dy)\n",
    "\n",
    "            if 0 <= new_state[0] < rows and 0 <= new_state[1] < cols and visited[new_state[0]][new_state[1]] == 0:\n",
    "                if maze[new_state[0]][new_state[1]] != 0 and (new_state[0], new_state[1]) not in blocks:\n",
    "                    came_from[new_state] = current\n",
    "                    visited[new_state[0]][new_state[1]] = 1\n",
    "                    q.put(new_state)\n",
    "                    qq.append(new_state)\n",
    "    return []"
   ]
  },
  {
   "cell_type": "markdown",
   "metadata": {},
   "source": [
    "        -Thuật toán A STAR\n",
    "        "
   ]
  },
  {
   "cell_type": "code",
   "execution_count": null,
   "metadata": {
    "vscode": {
     "languageId": "plaintext"
    }
   },
   "outputs": [],
   "source": [
    "def heurictics(a_point, b_point):\n",
    "    return abs(a_point[0]-b_point[0]) + abs(a_point[1]-b_point[1])\n",
    "\n",
    "def a_star(maze, start, goal):\n",
    "    came_from = {}\n",
    "    rows = len(maze)\n",
    "    cols = len(maze[0])\n",
    "    directions = [(-1, 0), (1, 0), (0, -1), (0, 1)]\n",
    "\n",
    "    pq = PriorityQueue()\n",
    "    qq = []\n",
    "    pq.put((0,start))\n",
    "\n",
    "    g = {start : 0}\n",
    "    f = {start : heurictics(start, goal)}\n",
    "\n",
    "    while not pq.empty():\n",
    "        _, current = pq.get()\n",
    "\n",
    "        if current == goal:\n",
    "            return re_path(maze, came_from, current), qq\n",
    "\n",
    "        for dx, dy in directions:\n",
    "            new_state = (current[0] + dx, current[1] + dy)\n",
    "            if 0 < new_state[0] < rows and 0 < new_state[1] < cols and maze[new_state[0]][new_state[1]] != 0:\n",
    "                new_g = g[current] + 1\n",
    "\n",
    "                if new_g < g.get(new_state, float('inf')):\n",
    "                    came_from[new_state] = current\n",
    "                    new_f = new_g + heurictics(new_state, goal)\n",
    "                    f[new_state] = new_f\n",
    "                    g[new_state] = new_g\n",
    "                    pq.put((new_f, new_state))\n",
    "                    qq.append(new_state)\n",
    "    return None"
   ]
  },
  {
   "cell_type": "markdown",
   "metadata": {},
   "source": [
    "#### b. Tìm đường đi tối ưu từ điểm đầu đến điểm cuối, trên đường đi phải đi qua một tập điểm cho trước:"
   ]
  },
  {
   "cell_type": "markdown",
   "metadata": {},
   "source": [
    "### 2. Giải mê cung cơ bản có trọng số."
   ]
  },
  {
   "cell_type": "markdown",
   "metadata": {},
   "source": [
    "#### a. Thuật toán Dijkstra cho mê cung có trọng số"
   ]
  },
  {
   "cell_type": "code",
   "execution_count": null,
   "metadata": {},
   "outputs": [],
   "source": [
    "from queue import PriorityQueue\n",
    "\n",
    "def dijkstra(maze, start, goal):\n",
    "    rows = len(maze)\n",
    "    cols = len(maze[0])\n",
    "    directions = [(-1, 0), (1, 0), (0, -1), (0, 1)]\n",
    "    \n",
    "    dist = {start: 0}\n",
    "    came_from = {}\n",
    "    pq = PriorityQueue()\n",
    "    pq.put((0, start))\n",
    "    visited = set()\n",
    "    qq = []\n",
    "\n",
    "    while not pq.empty():\n",
    "        current_dist, current = pq.get()\n",
    "        \n",
    "        if current in visited:\n",
    "            continue\n",
    "        \n",
    "        visited.add(current)\n",
    "        qq.append(current)\n",
    "        \n",
    "        if current == goal:\n",
    "            return re_path(came_from, current), qq\n",
    "        \n",
    "        for dx, dy in directions:\n",
    "            new_state = (current[0] + dx, current[1] + dy)\n",
    "            \n",
    "            if 0 <= new_state[0] < rows and 0 <= new_state[1] < cols:\n",
    "                weight = maze[new_state[0]][new_state[1]]\n",
    "                \n",
    "                if weight != 0 and new_state not in visited:\n",
    "                    new_dist = current_dist + weight\n",
    "                    \n",
    "                    if new_dist < dist.get(new_state, float('inf')):\n",
    "                        dist[new_state] = new_dist\n",
    "                        came_from[new_state] = current\n",
    "                        pq.put((new_dist, new_state))\n",
    "\n",
    "    return [], []"
   ]
  },
  {
   "cell_type": "markdown",
   "metadata": {},
   "source": [
    "#### b. Thuật toán A STAR cho mê cung có trọng số"
   ]
  },
  {
   "cell_type": "code",
   "execution_count": null,
   "metadata": {
    "vscode": {
     "languageId": "plaintext"
    }
   },
   "outputs": [],
   "source": [
    "def heurictics(a_point, b_point):\n",
    "    return abs(a_point[0]-b_point[0]) + abs(a_point[1]-b_point[1])\n",
    "def a_star_weighted(maze, start, goal):\n",
    "\n",
    "    rows, cols = len(maze), len(maze[0])\n",
    "    directions = [(-1, 0), (1, 0), (0, -1), (0, 1)]  \n",
    "\n",
    "\n",
    "    pq = PriorityQueue()\n",
    "    pq.put((0, start))  \n",
    "\n",
    "    g = {start: 0}\n",
    "    came_from = {}\n",
    "\n",
    "    while not pq.empty():\n",
    "        _, current = pq.get()  \n",
    "\n",
    "        if current == goal:\n",
    "            return re_path(maze, came_from, current)\n",
    "\n",
    "\n",
    "        for dx, dy in directions:\n",
    "            neighbor = (current[0] + dx, current[1] + dy)\n",
    "\n",
    "            if 0 <= neighbor[0] < rows and 0 <= neighbor[1] < cols and maze[neighbor[0]][neighbor[1]] > 0:\n",
    "                new_g = g[current] + maze[neighbor[0]][neighbor[1]]\n",
    "\n",
    "                if neighbor not in g or new_g < g[neighbor]:\n",
    "                    g[neighbor] = new_g\n",
    "                    new_f = new_g + heurictics(neighbor, goal)  # f(n) = g(n) + h(n)\n",
    "                    came_from[neighbor] = current\n",
    "                    pq.put((new_f, neighbor)) \n",
    "    return None  \n"
   ]
  },
  {
   "cell_type": "markdown",
   "metadata": {},
   "source": [
    "### Phân tích, đánh giá kết quả\n",
    "..."
   ]
  },
  {
   "cell_type": "markdown",
   "metadata": {},
   "source": [
    "### Cập nhật phân công, khối lượng công việc\n",
    "<!-- công việc của các thành viên, tỷ lệ đóng góp của các thành viên -->\n",
    "..."
   ]
  }
 ],
 "metadata": {
  "kernelspec": {
   "display_name": "Python 3",
   "language": "python",
   "name": "python3"
  },
  "language_info": {
   "name": "python",
   "version": "3.11.9"
  }
 },
 "nbformat": 4,
 "nbformat_minor": 2
}
